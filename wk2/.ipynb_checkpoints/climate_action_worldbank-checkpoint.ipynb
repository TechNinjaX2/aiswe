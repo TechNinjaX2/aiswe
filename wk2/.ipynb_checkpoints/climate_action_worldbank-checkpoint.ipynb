{
  "cells": [
    {
      "cell_type": "markdown",
      "metadata": {},
      "source": [
        "# Forecasting CO\u2082 Emissions (SDG 13)\n",
        "\n",
        "This notebook fetches **real data from the World Bank API** for CO\u2082 emissions (metric tons per capita) and\n",
        "renewable energy consumption (% of total final energy consumption). It demonstrates EDA, a simple\n",
        "feature engineering step, a Random Forest regression baseline, evaluation, and plots.\n",
        "\n",
        "Run each cell in order. The notebook is intentionally single-file and uses only libraries you already\n",
        "have installed (`requests`, `pandas`, `numpy`, `matplotlib`, `seaborn`, `scikit-learn`, `joblib`).\n"
      ]
    },
    {
      "cell_type": "code",
      "execution_count": null,
      "metadata": {},
      "outputs": [],
      "source": [
        "# Imports\n",
        "import requests\n",
        "import pandas as pd\n",
        "import numpy as np\n",
        "import matplotlib.pyplot as plt\n",
        "import seaborn as sns\n",
        "from sklearn.ensemble import RandomForestRegressor\n",
        "from sklearn.metrics import mean_absolute_error, mean_squared_error, r2_score\n",
        "from sklearn.model_selection import train_test_split\n",
        "import joblib\n",
        "import os\n",
        "\n",
        "sns.set(style='whitegrid')\n"
      ]
    },
    {
      "cell_type": "code",
      "execution_count": null,
      "metadata": {},
      "outputs": [],
      "source": [
        "# Parameters\n",
        "COUNTRIES = {\n",
        "    'KEN': 'Kenya',\n",
        "    'USA': 'United States',\n",
        "    'CHN': 'China',\n",
        "    'DEU': 'Germany',\n",
        "    'IND': 'India'\n",
        "}\n",
        "INDICATORS = {\n",
        "    'EN.ATM.CO2E.PC': 'CO2_per_capita',       # metric tons per capita\n",
        "    'EG.FEC.RNEW.ZS': 'Renewable_pct'        # % of total final energy consumption\n",
        "}\n",
        "START_YEAR = 2010\n",
        "END_YEAR = 2022\n",
        "\n",
        "OUT_DIR = 'outputs'\n",
        "os.makedirs(OUT_DIR, exist_ok=True)\n"
      ]
    },
    {
      "cell_type": "code",
      "execution_count": null,
      "metadata": {},
      "outputs": [],
      "source": [
        "def fetch_indicator(country_code, indicator_code, start_year=START_YEAR, end_year=END_YEAR):\n",
        "    \"\"\"Fetch time series for a single indicator + country from World Bank API.\n",
        "    Returns a DataFrame with columns ['countryiso3code','country','date','value','indicator']\n",
        "    \"\"\"\n",
        "    url = (\n",
        "        f'https://api.worldbank.org/v2/country/{country_code}/indicator/{indicator_code}'\n",
        "        f'?date={start_year}:{end_year}&format=json&per_page=1000'\n",
        "    )\n",
        "    r = requests.get(url)\n",
        "    if r.status_code != 200:\n",
        "        raise RuntimeError(f'World Bank API request failed: {r.status_code} for {url}')\n",
        "    data = r.json()\n",
        "    # data[1] is the list of records\n",
        "    if not isinstance(data, list) or len(data) < 2:\n",
        "        return pd.DataFrame()\n",
        "    records = data[1]\n",
        "    df = pd.DataFrame(records)\n",
        "    if df.empty:\n",
        "        return df\n",
        "    df = df[['countryiso3code','country','date','value']]\n",
        "    df['indicator'] = indicator_code\n",
        "    return df\n",
        "\n",
        "# fetch for all countries and indicators\n",
        "frames = []\n",
        "for c in COUNTRIES.keys():\n",
        "    for ind_code in INDICATORS.keys():\n",
        "        print(f'Fetching {ind_code} for {c}...')\n",
        "        df_sub = fetch_indicator(c, ind_code)\n",
        "        if not df_sub.empty:\n",
        "            frames.append(df_sub)\n",
        "\n",
        "if not frames:\n",
        "    raise RuntimeError('No data fetched. Check internet connection or World Bank API availability.')\n",
        "\n",
        "raw = pd.concat(frames, ignore_index=True)\n",
        "raw['date'] = raw['date'].astype(int)\n",
        "raw = raw.rename(columns={'countryiso3code':'iso3'})\n",
        "raw.head()\n"
      ]
    },
    {
      "cell_type": "code",
      "execution_count": null,
      "metadata": {},
      "outputs": [],
      "source": [
        "# Pivot to wide format so each row = country + year, columns = indicators\n",
        "df = raw.pivot_table(index=['iso3','country','date'], columns='indicator', values='value').reset_index()\n",
        "df = df.rename(columns=INDICATORS)\n",
        "df = df[['iso3','country','date'] + list(INDICATORS.values())]\n",
        "print('Rows before dropna:', len(df))\n",
        "df = df.sort_values(['iso3','date'])\n",
        "df = df.dropna(subset=['CO2_per_capita'])  # require target\n",
        "print('Rows after dropping missing target:', len(df))\n",
        "df.head()\n"
      ]
    },
    {
      "cell_type": "code",
      "execution_count": null,
      "metadata": {},
      "outputs": [],
      "source": [
        "# Basic EDA plots\n",
        "plt.figure(figsize=(10,6))\n",
        "sns.lineplot(data=df, x='date', y='CO2_per_capita', hue='country')\n",
        "plt.title('CO\u2082 Emissions per Capita (2010\u20132022)')\n",
        "plt.ylabel('Metric Tons per Capita')\n",
        "plt.xlabel('Year')\n",
        "plt.legend(title='Country')\n",
        "plt.tight_layout()\n",
        "plt.savefig(os.path.join(OUT_DIR,'co2_timeseries.png'))\n",
        "plt.show()\n",
        "\n",
        "plt.figure(figsize=(10,6))\n",
        "sns.lineplot(data=df, x='date', y='Renewable_pct', hue='country')\n",
        "plt.title('Renewable Energy (% of total) (2010\u20132022)')\n",
        "plt.ylabel('% of final energy')\n",
        "plt.xlabel('Year')\n",
        "plt.legend(title='Country')\n",
        "plt.tight_layout()\n",
        "plt.savefig(os.path.join(OUT_DIR,'renewable_timeseries.png'))\n",
        "plt.show()\n"
      ]
    },
    {
      "cell_type": "code",
      "execution_count": null,
      "metadata": {},
      "outputs": [],
      "source": [
        "# Feature engineering: create lag features for CO2 and fill NA\n",
        "df['CO2_lag1'] = df.groupby('iso3')['CO2_per_capita'].shift(1)\n",
        "df['CO2_lag2'] = df.groupby('iso3')['CO2_per_capita'].shift(2)\n",
        "df['Renewable_pct'] = df['Renewable_pct'].fillna(method='ffill')\n",
        "df = df.dropna(subset=['CO2_lag1'])  # require at least one lag\n",
        "print('Rows after feature engineering:', len(df))\n",
        "df.head()\n"
      ]
    },
    {
      "cell_type": "code",
      "execution_count": null,
      "metadata": {},
      "outputs": [],
      "source": [
        "# Prepare data for modeling\n",
        "features = ['CO2_lag1','CO2_lag2','Renewable_pct']\n",
        "X = df[features].values\n",
        "y = df['CO2_per_capita'].values\n",
        "\n",
        "# train-test split (random by rows is acceptable here but we also keep country as grouping for later use)\n",
        "X_train, X_test, y_train, y_test = train_test_split(X, y, test_size=0.2, random_state=42)\n",
        "\n",
        "model = RandomForestRegressor(n_estimators=200, random_state=42)\n",
        "model.fit(X_train, y_train)\n",
        "\n",
        "y_pred = model.predict(X_test)\n",
        "mae = mean_absolute_error(y_test, y_pred)\n",
        "rmse = mean_squared_error(y_test, y_pred, squared=False)\n",
        "r2 = r2_score(y_test, y_pred)\n",
        "print(f'MAE: {mae:.4f} | RMSE: {rmse:.4f} | R2: {r2:.4f}')\n",
        "\n",
        "# Save model and processed data sample\n",
        "joblib.dump(model, os.path.join(OUT_DIR,'rf_co2_model.joblib'))\n",
        "df.to_csv(os.path.join(OUT_DIR,'co2_renewables_processed.csv'), index=False)\n",
        "print('Saved model and processed CSV to', OUT_DIR)\n"
      ]
    },
    {
      "cell_type": "code",
      "execution_count": null,
      "metadata": {},
      "outputs": [],
      "source": [
        "# Feature importance plot\n",
        "fi = pd.Series(model.feature_importances_, index=features).sort_values(ascending=True)\n",
        "plt.figure(figsize=(6,4))\n",
        "fi.plot(kind='barh')\n",
        "plt.title('Feature importances')\n",
        "plt.tight_layout()\n",
        "plt.savefig(os.path.join(OUT_DIR,'feature_importances.png'))\n",
        "plt.show()\n"
      ]
    },
    {
      "cell_type": "markdown",
      "metadata": {},
      "source": [
        "## Ethical reflection\n",
        "\n",
        "- **Data quality & bias:** World Bank data coverage varies by country; low-income countries may have missing or low-quality reporting, which biases the model.\n",
        "- **Use-case limitations:** Forecasts are not perfect and should be used as guidance, not as sole policy drivers.\n",
        "- **Mitigations:** Stratified evaluation by income-group, transparent documentation, and involving domain experts in decision-making.\n"
      ]
    }
  ],
  "metadata": {
    "kernelspec": {
      "display_name": "Python 3",
      "language": "python",
      "name": "python3"
    },
    "language_info": {
      "name": "python",
      "version": "3.10"
    }
  },
  "nbformat": 4,
  "nbformat_minor": 5
}